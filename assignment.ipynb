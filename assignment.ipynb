{
 "cells": [
  {
   "cell_type": "code",
   "execution_count": 1,
   "metadata": {},
   "outputs": [
    {
     "name": "stdout",
     "output_type": "stream",
     "text": [
      "1->2->3->4->5->\n",
      "5->4->3->2->1->"
     ]
    }
   ],
   "source": [
    "'''Problem 1: Reverse a singly linked list I\n",
    "\n",
    "Input: 1 -> 2 -> 3 -> 4 -> 5\n",
    "\n",
    "Output: 5 -> 4 -> 3 -> 2 -> 1'''\n",
    "\n",
    "\n",
    "'''Problem 6: Add two numbers represented by linked lists (where each node contains a single digit).\n",
    "\n",
    "Input: List 1: 2 -> 4 -> 3, List 2: 5 -> 6 -> 4 (represents 342 + 465)\n",
    "\n",
    "Output: 7 -> 0 -> 8 (represents 807)'''\n",
    "\n",
    "\n",
    "class Node:\n",
    "    def __init__(self,data):\n",
    "        self.data = data\n",
    "        self.next = None\n",
    "        \n",
    "        \n",
    "        \n",
    "class LinkedList:\n",
    "    def __init__(self):\n",
    "        self.head = None\n",
    "        \n",
    "        \n",
    "    def push(self,data):\n",
    "        temp = self.head\n",
    "        new_node = Node(data)\n",
    "        new_node.next = temp\n",
    "        self.head = new_node\n",
    "        \n",
    "        \n",
    "        \n",
    "    def printLL(self):\n",
    "        temp = self.head\n",
    "        while temp:\n",
    "            print(temp.data,end=\"->\")\n",
    "            temp = temp.next\n",
    "            \n",
    "            \n",
    "    def reverseL(self):\n",
    "        if self.head is None or self.head.next is None:\n",
    "            return self.head\n",
    "        \n",
    "        prev = None\n",
    "        curr = self.head\n",
    "        while curr:\n",
    "            next = curr.next\n",
    "            curr.next=prev\n",
    "            prev = curr\n",
    "            curr = next\n",
    "        self.head = prev\n",
    "        \n",
    "    \n",
    "        \n",
    "        \n",
    "        \n",
    "            \n",
    "            \n",
    "l1 = LinkedList()\n",
    "\n",
    "\n",
    "l1.push(4)\n",
    "l1.push(3)\n",
    "l1.push(2)\n",
    "l1.push(1)\n",
    "\n",
    "\n",
    "l1.printLL()\n",
    "print()\n",
    "l1.reverseL()\n",
    "\n",
    "l1.printLL()"
   ]
  },
  {
   "cell_type": "code",
   "execution_count": 2,
   "metadata": {},
   "outputs": [
    {
     "name": "stdout",
     "output_type": "stream",
     "text": [
      "1 2 3 4 5 6 "
     ]
    }
   ],
   "source": [
    "'''Problem 2: Merge two sorted linked lists into one sorted linked list. \n",
    "\n",
    "Input: List 1: 1 -> 3 -> 5, List 2: 2 -> 4 -> 6\n",
    "\n",
    "Output: 1 -> 2 -> 3 -> 4 -> 5 -> 6'''\n",
    "        \n",
    "class Node:\n",
    "\tdef __init__(self, data):\n",
    "\t\tself.data = data\n",
    "\t\tself.next = None\n",
    "\n",
    "\n",
    "class LinkedList:\n",
    "\tdef __init__(self):\n",
    "\t\tself.head = None\n",
    "\n",
    "\tdef printList(self):\n",
    "\t\ttemp = self.head\n",
    "\t\twhile temp:\n",
    "\t\t\tprint(temp.data, end=\" \")\n",
    "\t\t\ttemp = temp.next\n",
    "\n",
    "\tdef insert(self, newData):\n",
    "\t\tnewNode = Node(newData)\n",
    "\t\tif self.head is None:\n",
    "\t\t\tself.head = newNode\n",
    "\t\t\treturn\n",
    "\n",
    "\t\tlast = self.head\n",
    "\t\twhile last.next:\n",
    "\t\t\tlast = last.next\n",
    "\n",
    "\t\tlast.next = newNode\n",
    "\n",
    "def mergeSortedLists(head1, head2):\n",
    "  \n",
    "    temp = None\n",
    "  \n",
    "    if head1 is None:\n",
    "        return head2\n",
    "    \n",
    "    if head2 is None:\n",
    "        return head1\n",
    "  \n",
    "    if head1.data <= head2.data:\n",
    "        temp = head1\n",
    "        temp.next = mergeSortedLists(head1.next, head2)\n",
    "          \n",
    "    else:\n",
    "        temp = head2\n",
    "        temp.next = mergeSortedLists(head1, head2.next)\n",
    "  \n",
    "    # return the temp list.\n",
    "    return temp\n",
    "\n",
    "\n",
    "# Create 2 lists\n",
    "head1 = LinkedList()\n",
    "head2 = LinkedList()\n",
    "\n",
    "head1.insert(1)\n",
    "head1.insert(3)\n",
    "head1.insert(5)\n",
    "\n",
    "head2.insert(2)\n",
    "head2.insert(4)\n",
    "head2.insert(6)\n",
    "\n",
    "head1.head = mergeSortedLists(head1.head, head2.head)\n",
    "\n",
    "head1.printList()\n",
    "\n",
    "\n"
   ]
  },
  {
   "cell_type": "code",
   "execution_count": 3,
   "metadata": {},
   "outputs": [],
   "source": [
    "'''Problem 3: Remove the nth node from the end of a linked list.\n",
    " \n",
    "Input: 1 -> 2 -> 3 -> 4 -> 5, n = 2\n",
    "\n",
    "Output: 1 -> 2 -> 3 -> 5'''\n",
    "\n",
    "\n",
    "\n",
    "class Node:\n",
    "    def __init__(self,data):\n",
    "        self.data = data\n",
    "        self.next = None\n",
    "        \n",
    "        \n",
    "class LinkedList:\n",
    "    def __init__(self):\n",
    "        self.head = None\n",
    "        \n",
    "    def push(self, data):\n",
    "     new_node = Node(data)\n",
    "     new_node.next = self.head\n",
    "     self.head = new_node\n",
    "     \n",
    "    def display(self):\n",
    "        \n",
    "        temp = self.head\n",
    "        \n",
    "        while temp != None:\n",
    "            \n",
    "            print(temp.data,end=\"->\")\n",
    "            temp = temp.next\n",
    "            \n",
    "            \n",
    "    def length(self,head):\n",
    "        temp = head\n",
    "        count = 0\n",
    "        while temp:\n",
    "            count+=1\n",
    "            temp = temp.next\n",
    "        return count\n",
    "            \n",
    "            \n",
    "    def deleteNodeFromEnd(self,head,n):\n",
    "        slow = head\n",
    "        fast = head\n",
    "        \n",
    "        if n>self.length(l1.head):\n",
    "            print(\"invalid value \")\n",
    "            return head\n",
    "        \n",
    "        for i in range(n):\n",
    "            fast = fast.next\n",
    "        if not fast:\n",
    "            return head.next\n",
    "        \n",
    "        while fast.next:\n",
    "            fast = fast.next\n",
    "            slow = slow.next\n",
    "            \n",
    "        slow.next = slow.next.next\n",
    "        return head\n",
    "\n",
    "l1 = LinkedList()\n",
    "\n",
    "l1.push(2)\n",
    "l1.push(33)\n",
    "l1.push(4)\n",
    "l1.push(5)"
   ]
  },
  {
   "cell_type": "code",
   "execution_count": 4,
   "metadata": {},
   "outputs": [
    {
     "name": "stdout",
     "output_type": "stream",
     "text": [
      "5->4->33->2->"
     ]
    }
   ],
   "source": [
    "l1.display()\n"
   ]
  },
  {
   "cell_type": "code",
   "execution_count": 25,
   "metadata": {},
   "outputs": [
    {
     "data": {
      "text/plain": [
       "<__main__.Node at 0x1e2b541b8d0>"
      ]
     },
     "execution_count": 25,
     "metadata": {},
     "output_type": "execute_result"
    }
   ],
   "source": [
    "l1.deleteNodeFromEnd(l1.head,3)"
   ]
  },
  {
   "cell_type": "code",
   "execution_count": 26,
   "metadata": {},
   "outputs": [
    {
     "name": "stdout",
     "output_type": "stream",
     "text": [
      "5->4->33->"
     ]
    }
   ],
   "source": [
    "l1.display()"
   ]
  },
  {
   "cell_type": "code",
   "execution_count": 16,
   "metadata": {},
   "outputs": [
    {
     "name": "stdout",
     "output_type": "stream",
     "text": [
      "1->1->2->3->3->\n",
      "1->2->3->2->3->"
     ]
    }
   ],
   "source": [
    "'''Problem 5: Remove duplicates from a sorted linked list.\n",
    "\n",
    "Input: 1 -> 1 -> 2 -> 3 -> 3\n",
    "\n",
    "Output: 1 -> 2 -> 3'''\n",
    "\n",
    "\n",
    "\n",
    "class Node:\n",
    "    def __init__(self,data):\n",
    "        self.data = data\n",
    "        self.next = None\n",
    "        \n",
    "        \n",
    "class LinkedList:\n",
    "    def __init__(self):\n",
    "        self.head = None\n",
    "        \n",
    "        \n",
    "        \n",
    "    def push(self,data):\n",
    "        new_node = Node(data)\n",
    "        new_node.next = self.head\n",
    "        self.head = new_node\n",
    "        \n",
    "        \n",
    "    def deleteNode(self,key):\n",
    "        # This is the case if the key that is the node we want to delete is the head\n",
    "        temp = self.head\n",
    "        if temp is not None:\n",
    "            if temp.data==key:\n",
    "                self.head = temp.next\n",
    "                temp = None\n",
    "                return \n",
    "            \n",
    "            \n",
    "        while temp:\n",
    "            if temp.data==key:\n",
    "                break\n",
    "            prev  = temp\n",
    "            temp = temp.next\n",
    "            \n",
    "            \n",
    "        if temp==None:\n",
    "            return\n",
    "        prev.next = temp.next\n",
    "        temp = None\n",
    "        \n",
    "            \n",
    "    def printList(self):\n",
    "        temp = self.head\n",
    "        \n",
    "        while temp:\n",
    "            print(temp.data,end=\"->\")\n",
    "            temp = temp.next\n",
    "            \n",
    "    \n",
    "                \n",
    "                \n",
    "    def removeDuplicates(self):\n",
    "        temp = self.head\n",
    "        if temp==None:\n",
    "            return \n",
    "        while temp.next is not None:\n",
    "            if temp.data==temp.next.data:\n",
    "                new = temp.next.next\n",
    "                temp.next = None\n",
    "                temp.next = new\n",
    "            else:\n",
    "                temp=temp.next\n",
    "        return self.head\n",
    "        \n",
    "        \n",
    "        \n",
    "        \n",
    "\n",
    "        # Driver Code\n",
    "        \n",
    "list1 = LinkedList()\n",
    "\n",
    "list1.push(3)\n",
    "list1.push(3)\n",
    "list1.push(2)\n",
    "list1.push(1)\n",
    "list1.push(1)   \n",
    "   \n",
    "        \n",
    "        \n",
    "list1.printList()   \n",
    "         \n",
    "print()                            \n",
    "            \n",
    "list1.removeDuplicates()        \n",
    "            \n",
    "            \n",
    "list1.printList()                             \n",
    "                \n",
    "\n",
    "list1.printList()                \n"
   ]
  },
  {
   "cell_type": "code",
   "execution_count": 9,
   "metadata": {},
   "outputs": [
    {
     "name": "stdout",
     "output_type": "stream",
     "text": [
      "1->2->3->4->\n",
      "4->3->2->1->"
     ]
    }
   ],
   "source": [
    "'''Problem 6: Add two numbers represented by linked lists (where each node contains a single digit).\n",
    "\n",
    "Input: List 1: 2 -> 4 -> 3, List 2: 5 -> 6 -> 4 (represents 342 + 465)\n",
    "\n",
    "Output: 7 -> 0 -> 8 (represents 807)'''\n",
    "\n",
    "\n",
    "class Node:\n",
    "    def __init__(self,data):\n",
    "        self.data = data\n",
    "        self.next = None\n",
    "        \n",
    "        \n",
    "        \n",
    "class LinkedList:\n",
    "    def __init__(self):\n",
    "        self.head = None\n",
    "        \n",
    "        \n",
    "    def push(self,data):\n",
    "        temp = self.head\n",
    "        new_node = Node(data)\n",
    "        new_node.next = temp\n",
    "        self.head = new_node\n",
    "        \n",
    "        \n",
    "        \n",
    "    def printLL(self):\n",
    "        temp = self.head\n",
    "        while temp:\n",
    "            print(temp.data,end=\"->\")\n",
    "            temp = temp.next\n",
    "            \n",
    "            \n",
    "    def reverseL(self):\n",
    "        if self.head is None or self.head.next is None:\n",
    "            return self.head\n",
    "        \n",
    "        prev = None\n",
    "        curr = self.head\n",
    "        while curr:\n",
    "            next = curr.next\n",
    "            curr.next=prev\n",
    "            prev = curr\n",
    "            curr = next\n",
    "        self.head = prev\n",
    "        \n",
    "    \n",
    "        \n",
    "        \n",
    "        \n",
    "            \n",
    "            \n",
    "l1 = LinkedList()\n",
    "\n",
    "\n",
    "l1.push(4)\n",
    "l1.push(3)\n",
    "l1.push(2)\n",
    "l1.push(1)\n",
    "\n",
    "\n",
    "l1.printLL()\n",
    "print()\n",
    "l1.reverseL()\n",
    "\n",
    "l1.printLL()"
   ]
  },
  {
   "cell_type": "code",
   "execution_count": 10,
   "metadata": {},
   "outputs": [
    {
     "name": "stdout",
     "output_type": "stream",
     "text": [
      "1->2->3->4->\n",
      "2->1->4->3->"
     ]
    }
   ],
   "source": [
    "'''Problem 7: Swap nodes in pairs in a linked list.\n",
    "\n",
    "Input: 1 -> 2 -> 3 -> 4\n",
    "\n",
    "Output: 2 -> 1 -> 4 -> 3'''\n",
    "\n",
    "\n",
    "class Node:\n",
    "    def __init__(self,data):\n",
    "        self.data = data\n",
    "        self.next = None\n",
    "        \n",
    "class LinkedList:\n",
    "    def __init__(self):\n",
    "        self.head = None\n",
    "        \n",
    "    def swapPairs(self):\n",
    "        temp = self.head\n",
    "        \n",
    "        if temp is None:\n",
    "            return \n",
    "        \n",
    "        while temp and temp.next:\n",
    "            if temp.data!=temp.next.data:\n",
    "                temp.data,temp.next.data = temp.next.data,temp.data\n",
    "                \n",
    "                 \n",
    "            temp = temp.next.next\n",
    "            \n",
    "            \n",
    "            \n",
    "    def push(self,data):\n",
    "        new_node = Node(data)\n",
    "        new_node.next = self.head\n",
    "        self.head= new_node\n",
    "        \n",
    "    \n",
    "    def printLL(self):\n",
    "        \n",
    "        temp =self.head\n",
    "        \n",
    "        while temp:\n",
    "            print(temp.data,end=\"->\")\n",
    "            temp = temp.next\n",
    "            \n",
    "  \n",
    "               \n",
    "        \n",
    "list1 = LinkedList()\n",
    "\n",
    "\n",
    "list1.push(4)\n",
    "list1.push(3)\n",
    "list1.push(2)\n",
    "list1.push(1)\n",
    "        \n",
    "        \n",
    "list1.printLL()\n",
    "print()\n",
    "list1.swapPairs()\n",
    "list1.printLL()\n",
    "        \n",
    "   \n",
    "        \n",
    "        "
   ]
  },
  {
   "cell_type": "code",
   "execution_count": 9,
   "metadata": {},
   "outputs": [],
   "source": [
    "'''Problem 8: Reverse nodes in a linked list in groups of k.\n",
    "\n",
    "Input: 1 -> 2 -> 3 -> 4 -> 5, k = 3\n",
    "\n",
    "Output: 3 -> 2 -> 1 -> 4 -> 5'''\n",
    "\n",
    "\n",
    "\n",
    "        \n"
   ]
  },
  {
   "cell_type": "code",
   "execution_count": 4,
   "metadata": {},
   "outputs": [
    {
     "name": "stdout",
     "output_type": "stream",
     "text": [
      "1->2->2->1->"
     ]
    },
    {
     "data": {
      "text/plain": [
       "True"
      ]
     },
     "execution_count": 4,
     "metadata": {},
     "output_type": "execute_result"
    }
   ],
   "source": [
    "'''Problem 9: Determine if a linked list is a palindrome.\n",
    "\n",
    "Input: 1 -> 2 -> 2 -> 1\n",
    "\n",
    "Output: True'''\n",
    "\n",
    "\n",
    "class Node:\n",
    "    def __init__(self,data):\n",
    "        self.data = data\n",
    "        self.next = None\n",
    "        \n",
    "class LinkedList:\n",
    "    def __init__(self):\n",
    "        self.head = None\n",
    "        \n",
    "    def push(self,data):\n",
    "        new_node = Node(data)\n",
    "        new_node.next = self.head\n",
    "        self.head = new_node\n",
    "        \n",
    "    def traverse(self):\n",
    "        temp = self.head\n",
    "        \n",
    "        while temp:\n",
    "            print(temp.data,end=\"->\")\n",
    "            temp = temp.next\n",
    "            \n",
    "            \n",
    "    def isPalindrome(self):\n",
    "        \n",
    "        slow = self.head\n",
    "        stack = []\n",
    "        isPalin = True\n",
    "        \n",
    "        while slow:\n",
    "            stack.append(slow.data)\n",
    "            slow = slow.next\n",
    "            \n",
    "        while self.head:\n",
    "            x = stack.pop()\n",
    "            \n",
    "            if self.head.data == x:\n",
    "                isPalin = True\n",
    "            else:\n",
    "                isPalin = False\n",
    "                break\n",
    "            \n",
    "            self.head = self.head.next\n",
    "            \n",
    "        return isPalin\n",
    "            \n",
    "            \n",
    "            \n",
    "newLL = LinkedList()\n",
    "\n",
    "newLL.push(1)\n",
    "newLL.push(2)\n",
    "newLL.push(2)\n",
    "newLL.push(1)       \n",
    "            \n",
    "            \n",
    "            \n",
    "newLL.traverse() \n",
    "\n",
    "newLL.isPalindrome() \n",
    "            \n",
    "\n",
    "        \n"
   ]
  },
  {
   "cell_type": "code",
   "execution_count": 4,
   "metadata": {},
   "outputs": [
    {
     "name": "stdout",
     "output_type": "stream",
     "text": [
      "1->2->3->4->5->\n",
      "4->5->1->2->3->"
     ]
    }
   ],
   "source": [
    "'''Problem 10: Rotate a linked list to the right by k places.\n",
    "\n",
    "Input: 1 -> 2 -> 3 -> 4 -> 5, k = 2\n",
    "\n",
    "Output: 4 -> 5 -> 1 -> 2 -> 3'''\n",
    "\n",
    "\n",
    "\n",
    "class Node:\n",
    "    def __init__(self,data):\n",
    "        self.data = data\n",
    "        self.next = None\n",
    "        \n",
    "        \n",
    "        \n",
    "class LinkedList:\n",
    "    def __init__(self):\n",
    "        self.head = None\n",
    "        \n",
    "        \n",
    "    def push(self,data):\n",
    "        new_node = Node(data)\n",
    "        new_node.next = self.head\n",
    "        self.head = new_node\n",
    "        \n",
    "        \n",
    "    def Traverse(self):\n",
    "        temp = self.head\n",
    "        \n",
    "        while temp:\n",
    "            print(temp.data,end=\"->\")\n",
    "            temp = temp.next\n",
    "            \n",
    "            \n",
    "    def rotate(self,k):\n",
    "        if k==0:\n",
    "            return\n",
    "        \n",
    "        count = 1\n",
    "        current = self.head\n",
    "        \n",
    "        while count<k and current:\n",
    "            current = current.next\n",
    "            count+=1\n",
    "            \n",
    "        if current is None:\n",
    "            return \n",
    "        \n",
    "        kthNode = current\n",
    "        \n",
    "        \n",
    "        while current.next:\n",
    "            current = current.next\n",
    "            \n",
    "            \n",
    "        current.next = self.head\n",
    "        \n",
    "        self.head = kthNode.next\n",
    "        \n",
    "        kthNode.next = None\n",
    "        \n",
    "        \n",
    "        \n",
    "        \n",
    "        \n",
    "ll = LinkedList()\n",
    "\n",
    "\n",
    "ll.push(5)\n",
    "ll.push(4)\n",
    "ll.push(3)\n",
    "ll.push(2)\n",
    "ll.push(1)\n",
    "        \n",
    "        \n",
    "ll.Traverse()    \n",
    "print()\n",
    "ll.rotate(3)\n",
    "ll.Traverse()\n",
    "        \n",
    "        \n",
    "        \n",
    "\n"
   ]
  },
  {
   "cell_type": "code",
   "execution_count": null,
   "metadata": {},
   "outputs": [],
   "source": [
    "'''Problem 11: Flatten a multilevel doubly linked list.\n",
    "\n",
    "Input: 1 <-> 2 <-> 3 <-> 7 <-> 8 <-> 11 -> 12, 4 <-> 5 -> 9 -> 10, 6 -> 13\n",
    "\n",
    "Output: 1 <-> 2 <-> 3 <-> 4 <-> 5 <-> 6 <-> 7 <-> 8 <-> 9 <-> 10 <-> 11 <-> 12 <-> 13'''\n",
    "\n",
    "\n",
    "\n",
    "\n",
    "\n",
    "\n",
    "\n",
    "\n",
    "\n"
   ]
  },
  {
   "cell_type": "code",
   "execution_count": null,
   "metadata": {},
   "outputs": [],
   "source": [
    "'''Problem 12: Rearrange a linked list such that all even positioned nodes are placed at the end.\n",
    "\n",
    "Input: 1 -> 2 -> 3 -> 4 -> 5\n",
    "\n",
    "Output: 1 -> 3 -> 5 -> 2 -> 4'''"
   ]
  },
  {
   "cell_type": "code",
   "execution_count": null,
   "metadata": {},
   "outputs": [],
   "source": []
  },
  {
   "cell_type": "code",
   "execution_count": 7,
   "metadata": {},
   "outputs": [
    {
     "data": {
      "text/plain": [
       "4"
      ]
     },
     "execution_count": 7,
     "metadata": {},
     "output_type": "execute_result"
    }
   ],
   "source": [
    "'''Problem 14: Given a sorted array and a target value, return the index if the target is found. If not, return the \n",
    "index where it would be inserted.\n",
    "\n",
    "Input: nums = [1, 3, 5, 6], target = 5\n",
    "\n",
    "Output: 2'''\n",
    "\n",
    "def Findindex(arr,target,n):\n",
    "    for i in range(n):\n",
    "        \n",
    "        if arr[i]==target:\n",
    "            return i\n",
    "        \n",
    "        elif arr[i]>target:\n",
    "            return i\n",
    "        \n",
    "    return n\n",
    "        \n",
    "        \n",
    "        \n",
    "arr = [1,2,3,4]\n",
    "n = len(arr)\n",
    "    \n",
    "Findindex(arr,5,n)    \n",
    "    \n",
    "\n",
    "\n",
    "\n"
   ]
  },
  {
   "cell_type": "code",
   "execution_count": 12,
   "metadata": {},
   "outputs": [
    {
     "data": {
      "text/plain": [
       "0"
      ]
     },
     "execution_count": 12,
     "metadata": {},
     "output_type": "execute_result"
    }
   ],
   "source": [
    "'''Problem 15: Find the minimum element in a rotated sorted array.\n",
    "Input: [4, 5, 6, 7, 0, 1, 2]\n",
    "\n",
    "Output: 0'''\n",
    "\n",
    "def findMin(arr):\n",
    "    mini =arr[0]\n",
    "    \n",
    "    for i in range(len(arr)):\n",
    "        if arr[i]<mini:\n",
    "            mini = arr[i]\n",
    "    return mini\n",
    "\n",
    "\n",
    "arr = [4,5,6,7,0,1,2]\n",
    "\n",
    "findMin(arr)"
   ]
  },
  {
   "cell_type": "code",
   "execution_count": null,
   "metadata": {},
   "outputs": [],
   "source": [
    "'''Problem 16: Search for a target value in a rotated sorted array.\n",
    "\n",
    "\n",
    "Input: nums = [4, 5, 6, 7, 0, 1, 2], target = 0\n",
    "\n",
    "Output: 4'''\n",
    "\n",
    "\n",
    "\n",
    "\n",
    "\n",
    "\n",
    "\n",
    "\n",
    "\n"
   ]
  },
  {
   "cell_type": "code",
   "execution_count": 7,
   "metadata": {},
   "outputs": [
    {
     "data": {
      "text/plain": [
       "15"
      ]
     },
     "execution_count": 7,
     "metadata": {},
     "output_type": "execute_result"
    }
   ],
   "source": [
    "\n",
    "'''Problem 25: Given an array of integers, calculate the sum of all its elements.\n",
    "Input: [1, 2, 3, 4, 5]\n",
    "Output: 15'''\n",
    "\n",
    "def sum_elements(arr,si):\n",
    "    if si>=len(arr):\n",
    "        return 0\n",
    "    \n",
    "    return arr[si]+ sum_elements(arr,si+1) \n",
    "    \n",
    "\n",
    "arr = [1, 2, 3, 4, 5]\n",
    "\n",
    "sum_elements(arr,0)\n"
   ]
  },
  {
   "cell_type": "code",
   "execution_count": null,
   "metadata": {},
   "outputs": [],
   "source": []
  },
  {
   "cell_type": "code",
   "execution_count": null,
   "metadata": {},
   "outputs": [],
   "source": []
  },
  {
   "cell_type": "code",
   "execution_count": 8,
   "metadata": {},
   "outputs": [
    {
     "data": {
      "text/plain": [
       "9"
      ]
     },
     "execution_count": 8,
     "metadata": {},
     "output_type": "execute_result"
    }
   ],
   "source": [
    "'''Problem 26: Find the maximum element in an array of integers.\n",
    "Input: [3, 7, 2, 9, 4, 1]\n",
    "Output: 9'''\n",
    "\n",
    "def maxElement(arr,si):\n",
    "    if si>=len(arr):\n",
    "        return -1\n",
    "    \n",
    "    return max(arr[si],maxElement(arr,si+1))\n",
    "\n",
    "arr = [3,7,2,9,4,1]\n",
    "\n",
    "maxElement(arr,0)\n"
   ]
  },
  {
   "cell_type": "code",
   "execution_count": 9,
   "metadata": {},
   "outputs": [
    {
     "name": "stdout",
     "output_type": "stream",
     "text": [
      "2\n"
     ]
    }
   ],
   "source": [
    "'''Problem 27: Implement linear search to find the index of a target element in an array.\n",
    "Input: [5, 3, 8, 2, 7, 4], target = 8\n",
    "Output: 2'''\n",
    "\n",
    "def linearSearch(arr,target,si):\n",
    "    index = 0\n",
    "    if si>=len(arr):\n",
    "        return\n",
    "    \n",
    "    if arr[si]==target:\n",
    "        print(si)\n",
    "    \n",
    "    \n",
    "    linearSearch(arr,target,si+1)\n",
    "    \n",
    "    \n",
    "    \n",
    "\n",
    "arr = [5,3,8,2,7,4]\n",
    "    \n",
    "result = linearSearch(arr,8,0)\n",
    "    \n"
   ]
  },
  {
   "cell_type": "code",
   "execution_count": 10,
   "metadata": {},
   "outputs": [
    {
     "data": {
      "text/plain": [
       "120"
      ]
     },
     "execution_count": 10,
     "metadata": {},
     "output_type": "execute_result"
    }
   ],
   "source": [
    "'''Problem 28 Calculate the factorial of a given number.\n",
    "Input: 5\n",
    "Output: 120 (as 5! = 5 * 4 * 3 * 2 * 1 = 120)'''\n",
    "\n",
    "\n",
    "def fact(num):\n",
    "    if num<=1:\n",
    "        return 1\n",
    "    \n",
    "    return num*fact(num-1)\n",
    "\n",
    "\n",
    "fact(5)        "
   ]
  },
  {
   "cell_type": "code",
   "execution_count": 11,
   "metadata": {},
   "outputs": [
    {
     "data": {
      "text/plain": [
       "'Problem 29: Check if a given number is a prime number.'"
      ]
     },
     "execution_count": 11,
     "metadata": {},
     "output_type": "execute_result"
    }
   ],
   "source": [
    "'''Problem 29: Check if a given number is a prime number.'''\n"
   ]
  },
  {
   "cell_type": "code",
   "execution_count": 12,
   "metadata": {},
   "outputs": [],
   "source": [
    "'''Problem 30: Generate the Fibonacci series up to a given number n.\n",
    "Input: 8\n",
    "Output: [0, 1, 1, 2, 3, 5, 8, 13]'''\n",
    "\n",
    "def fib(n):\n",
    "    if n<=1:\n",
    "        return n\n",
    "    return fib(n-1)+fib(n-2)\n",
    "\n",
    "num = 10\n",
    "if num<=0:\n",
    "    print(\"\")\n",
    "\n",
    "\n"
   ]
  },
  {
   "cell_type": "code",
   "execution_count": 13,
   "metadata": {},
   "outputs": [
    {
     "data": {
      "text/plain": [
       "81"
      ]
     },
     "execution_count": 13,
     "metadata": {},
     "output_type": "execute_result"
    }
   ],
   "source": [
    "'''Problem 31: Calculate the power of a number using recursion. \n",
    "\n",
    "    Input: base = 3, exponent = 4\n",
    "Output: 81 (as 3^4 = 3 * 3 * 3 * 3 = 81) '''\n",
    "\n",
    "def pOwofNo(base,exponent):\n",
    "    if exponent==0:\n",
    "        return 1\n",
    "    \n",
    "    return base * pOwofNo(base,exponent-1)\n",
    "    \n",
    "    \n",
    "\n",
    "pOwofNo(3,4)\n"
   ]
  },
  {
   "cell_type": "code",
   "execution_count": 14,
   "metadata": {},
   "outputs": [
    {
     "name": "stdout",
     "output_type": "stream",
     "text": [
      "olleh"
     ]
    }
   ],
   "source": [
    "'''Problem 32: Reverse a given string.\n",
    "Input: \"hello\"\n",
    "Output: \"olleh\"  '''\n",
    "\n",
    "\n",
    "# defining a function reversestring\n",
    "\n",
    "\n",
    "def reversestring(string,si):\n",
    "    if si>=len(string):\n",
    "        return\n",
    "    \n",
    "    reversestring(string,si+1)\n",
    "    print(string[si],end=\"\")\n",
    "\n",
    "\n",
    "string = \"hello\"\n",
    "\n",
    "reversestring(string,0)\n",
    "\n"
   ]
  }
 ],
 "metadata": {
  "kernelspec": {
   "display_name": "Python 3",
   "language": "python",
   "name": "python3"
  },
  "language_info": {
   "codemirror_mode": {
    "name": "ipython",
    "version": 3
   },
   "file_extension": ".py",
   "mimetype": "text/x-python",
   "name": "python",
   "nbconvert_exporter": "python",
   "pygments_lexer": "ipython3",
   "version": "3.11.4"
  }
 },
 "nbformat": 4,
 "nbformat_minor": 2
}
